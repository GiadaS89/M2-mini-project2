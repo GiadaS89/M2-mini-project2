{
 "cells": [
  {
   "cell_type": "markdown",
   "metadata": {},
   "source": [
    "# Inferential statistics\n",
    "## Part III - Inferential Analysis\n",
    "\n",
    "We're now going to look for answers to the ongoing basketball discussions between you and your family. The main ones we want to reasearch are the following:\n",
    "\n",
    "- Your grandmother says that your sister couldn't play in a professional basketball league (not only the WNBA, but ANY professional basketball league) because she's too skinny and lacks muscle.\n",
    "- Your sister says that most female professional players fail their free throws.\n",
    "- Your brother-in-law heard on the TV that the average assists among NBA (male) and WNBA (female) players is 52 for the 2016-2017 season. He is convinced this average would be higher if we only considered the players from the WNBA.\n",
    "\n",
    "Let's investigate these claims and see if we can find proof to refute or support them.\n",
    "\n",
    "### Libraries\n",
    "Import the necessary libraries first."
   ]
  },
  {
   "cell_type": "code",
   "execution_count": 55,
   "metadata": {},
   "outputs": [],
   "source": [
    "# Libraries\n",
    "import math\n",
    "import pandas as pd\n",
    "import numpy as np\n",
    "from scipy import stats\n",
    "import matplotlib.pyplot as plt\n",
    "from scipy.stats import ttest_1samp\n",
    "import scipy.stats as st"
   ]
  },
  {
   "cell_type": "markdown",
   "metadata": {},
   "source": [
    "### Load the dataset\n",
    "\n",
    "Load the cleaned dataset."
   ]
  },
  {
   "cell_type": "code",
   "execution_count": 56,
   "metadata": {},
   "outputs": [
    {
     "data": {
      "text/html": [
       "<div>\n",
       "<style scoped>\n",
       "    .dataframe tbody tr th:only-of-type {\n",
       "        vertical-align: middle;\n",
       "    }\n",
       "\n",
       "    .dataframe tbody tr th {\n",
       "        vertical-align: top;\n",
       "    }\n",
       "\n",
       "    .dataframe thead th {\n",
       "        text-align: right;\n",
       "    }\n",
       "</style>\n",
       "<table border=\"1\" class=\"dataframe\">\n",
       "  <thead>\n",
       "    <tr style=\"text-align: right;\">\n",
       "      <th></th>\n",
       "      <th>Unnamed: 0</th>\n",
       "      <th>Name</th>\n",
       "      <th>Team</th>\n",
       "      <th>Pos</th>\n",
       "      <th>Height</th>\n",
       "      <th>Weight</th>\n",
       "      <th>BMI</th>\n",
       "      <th>Birth_Place</th>\n",
       "      <th>Birthdate</th>\n",
       "      <th>Age</th>\n",
       "      <th>...</th>\n",
       "      <th>OREB</th>\n",
       "      <th>DREB</th>\n",
       "      <th>REB</th>\n",
       "      <th>AST</th>\n",
       "      <th>STL</th>\n",
       "      <th>BLK</th>\n",
       "      <th>TO</th>\n",
       "      <th>PTS</th>\n",
       "      <th>DD2</th>\n",
       "      <th>TD3</th>\n",
       "    </tr>\n",
       "  </thead>\n",
       "  <tbody>\n",
       "    <tr>\n",
       "      <th>0</th>\n",
       "      <td>0</td>\n",
       "      <td>Aerial Powers</td>\n",
       "      <td>DAL</td>\n",
       "      <td>F</td>\n",
       "      <td>183</td>\n",
       "      <td>71</td>\n",
       "      <td>21.200991</td>\n",
       "      <td>US</td>\n",
       "      <td>January 17, 1994</td>\n",
       "      <td>23</td>\n",
       "      <td>...</td>\n",
       "      <td>6</td>\n",
       "      <td>22</td>\n",
       "      <td>28</td>\n",
       "      <td>12</td>\n",
       "      <td>3</td>\n",
       "      <td>6</td>\n",
       "      <td>12</td>\n",
       "      <td>93</td>\n",
       "      <td>0</td>\n",
       "      <td>0</td>\n",
       "    </tr>\n",
       "    <tr>\n",
       "      <th>1</th>\n",
       "      <td>1</td>\n",
       "      <td>Alana Beard</td>\n",
       "      <td>LA</td>\n",
       "      <td>G/F</td>\n",
       "      <td>185</td>\n",
       "      <td>73</td>\n",
       "      <td>21.329438</td>\n",
       "      <td>US</td>\n",
       "      <td>May 14, 1982</td>\n",
       "      <td>35</td>\n",
       "      <td>...</td>\n",
       "      <td>19</td>\n",
       "      <td>82</td>\n",
       "      <td>101</td>\n",
       "      <td>72</td>\n",
       "      <td>63</td>\n",
       "      <td>13</td>\n",
       "      <td>40</td>\n",
       "      <td>217</td>\n",
       "      <td>0</td>\n",
       "      <td>0</td>\n",
       "    </tr>\n",
       "    <tr>\n",
       "      <th>2</th>\n",
       "      <td>2</td>\n",
       "      <td>Alex Bentley</td>\n",
       "      <td>CON</td>\n",
       "      <td>G</td>\n",
       "      <td>170</td>\n",
       "      <td>69</td>\n",
       "      <td>23.875433</td>\n",
       "      <td>US</td>\n",
       "      <td>October 27, 1990</td>\n",
       "      <td>26</td>\n",
       "      <td>...</td>\n",
       "      <td>4</td>\n",
       "      <td>36</td>\n",
       "      <td>40</td>\n",
       "      <td>78</td>\n",
       "      <td>22</td>\n",
       "      <td>3</td>\n",
       "      <td>24</td>\n",
       "      <td>218</td>\n",
       "      <td>0</td>\n",
       "      <td>0</td>\n",
       "    </tr>\n",
       "    <tr>\n",
       "      <th>3</th>\n",
       "      <td>3</td>\n",
       "      <td>Alex Montgomery</td>\n",
       "      <td>SAN</td>\n",
       "      <td>G/F</td>\n",
       "      <td>185</td>\n",
       "      <td>84</td>\n",
       "      <td>24.543462</td>\n",
       "      <td>US</td>\n",
       "      <td>December 11, 1988</td>\n",
       "      <td>28</td>\n",
       "      <td>...</td>\n",
       "      <td>35</td>\n",
       "      <td>134</td>\n",
       "      <td>169</td>\n",
       "      <td>65</td>\n",
       "      <td>20</td>\n",
       "      <td>10</td>\n",
       "      <td>38</td>\n",
       "      <td>188</td>\n",
       "      <td>2</td>\n",
       "      <td>0</td>\n",
       "    </tr>\n",
       "    <tr>\n",
       "      <th>4</th>\n",
       "      <td>4</td>\n",
       "      <td>Alexis Jones</td>\n",
       "      <td>MIN</td>\n",
       "      <td>G</td>\n",
       "      <td>175</td>\n",
       "      <td>78</td>\n",
       "      <td>25.469388</td>\n",
       "      <td>US</td>\n",
       "      <td>August 5, 1994</td>\n",
       "      <td>23</td>\n",
       "      <td>...</td>\n",
       "      <td>3</td>\n",
       "      <td>9</td>\n",
       "      <td>12</td>\n",
       "      <td>12</td>\n",
       "      <td>7</td>\n",
       "      <td>0</td>\n",
       "      <td>14</td>\n",
       "      <td>50</td>\n",
       "      <td>0</td>\n",
       "      <td>0</td>\n",
       "    </tr>\n",
       "    <tr>\n",
       "      <th>5</th>\n",
       "      <td>5</td>\n",
       "      <td>Alexis Peterson</td>\n",
       "      <td>SEA</td>\n",
       "      <td>G</td>\n",
       "      <td>170</td>\n",
       "      <td>63</td>\n",
       "      <td>21.799308</td>\n",
       "      <td>US</td>\n",
       "      <td>June 20, 1995</td>\n",
       "      <td>22</td>\n",
       "      <td>...</td>\n",
       "      <td>3</td>\n",
       "      <td>13</td>\n",
       "      <td>16</td>\n",
       "      <td>11</td>\n",
       "      <td>5</td>\n",
       "      <td>0</td>\n",
       "      <td>11</td>\n",
       "      <td>26</td>\n",
       "      <td>0</td>\n",
       "      <td>0</td>\n",
       "    </tr>\n",
       "    <tr>\n",
       "      <th>6</th>\n",
       "      <td>6</td>\n",
       "      <td>Alexis Prince</td>\n",
       "      <td>PHO</td>\n",
       "      <td>G</td>\n",
       "      <td>188</td>\n",
       "      <td>81</td>\n",
       "      <td>22.917610</td>\n",
       "      <td>US</td>\n",
       "      <td>February 5, 1994</td>\n",
       "      <td>23</td>\n",
       "      <td>...</td>\n",
       "      <td>1</td>\n",
       "      <td>14</td>\n",
       "      <td>15</td>\n",
       "      <td>5</td>\n",
       "      <td>4</td>\n",
       "      <td>3</td>\n",
       "      <td>3</td>\n",
       "      <td>24</td>\n",
       "      <td>0</td>\n",
       "      <td>0</td>\n",
       "    </tr>\n",
       "    <tr>\n",
       "      <th>7</th>\n",
       "      <td>7</td>\n",
       "      <td>Allie Quigley</td>\n",
       "      <td>CHI</td>\n",
       "      <td>G</td>\n",
       "      <td>178</td>\n",
       "      <td>64</td>\n",
       "      <td>20.199470</td>\n",
       "      <td>US</td>\n",
       "      <td>June 20, 1986</td>\n",
       "      <td>31</td>\n",
       "      <td>...</td>\n",
       "      <td>9</td>\n",
       "      <td>83</td>\n",
       "      <td>92</td>\n",
       "      <td>95</td>\n",
       "      <td>20</td>\n",
       "      <td>13</td>\n",
       "      <td>59</td>\n",
       "      <td>442</td>\n",
       "      <td>0</td>\n",
       "      <td>0</td>\n",
       "    </tr>\n",
       "    <tr>\n",
       "      <th>8</th>\n",
       "      <td>8</td>\n",
       "      <td>Allisha Gray</td>\n",
       "      <td>DAL</td>\n",
       "      <td>G</td>\n",
       "      <td>185</td>\n",
       "      <td>76</td>\n",
       "      <td>22.205990</td>\n",
       "      <td>US</td>\n",
       "      <td>October 20, 1992</td>\n",
       "      <td>24</td>\n",
       "      <td>...</td>\n",
       "      <td>52</td>\n",
       "      <td>75</td>\n",
       "      <td>127</td>\n",
       "      <td>40</td>\n",
       "      <td>47</td>\n",
       "      <td>19</td>\n",
       "      <td>37</td>\n",
       "      <td>395</td>\n",
       "      <td>0</td>\n",
       "      <td>0</td>\n",
       "    </tr>\n",
       "    <tr>\n",
       "      <th>9</th>\n",
       "      <td>9</td>\n",
       "      <td>Allison Hightower</td>\n",
       "      <td>WAS</td>\n",
       "      <td>G</td>\n",
       "      <td>178</td>\n",
       "      <td>77</td>\n",
       "      <td>24.302487</td>\n",
       "      <td>US</td>\n",
       "      <td>June 4, 1988</td>\n",
       "      <td>29</td>\n",
       "      <td>...</td>\n",
       "      <td>3</td>\n",
       "      <td>7</td>\n",
       "      <td>10</td>\n",
       "      <td>10</td>\n",
       "      <td>5</td>\n",
       "      <td>0</td>\n",
       "      <td>2</td>\n",
       "      <td>36</td>\n",
       "      <td>0</td>\n",
       "      <td>0</td>\n",
       "    </tr>\n",
       "  </tbody>\n",
       "</table>\n",
       "<p>10 rows × 33 columns</p>\n",
       "</div>"
      ],
      "text/plain": [
       "   Unnamed: 0               Name Team  Pos  Height  Weight        BMI  \\\n",
       "0           0      Aerial Powers  DAL    F     183      71  21.200991   \n",
       "1           1        Alana Beard   LA  G/F     185      73  21.329438   \n",
       "2           2       Alex Bentley  CON    G     170      69  23.875433   \n",
       "3           3    Alex Montgomery  SAN  G/F     185      84  24.543462   \n",
       "4           4       Alexis Jones  MIN    G     175      78  25.469388   \n",
       "5           5    Alexis Peterson  SEA    G     170      63  21.799308   \n",
       "6           6      Alexis Prince  PHO    G     188      81  22.917610   \n",
       "7           7      Allie Quigley  CHI    G     178      64  20.199470   \n",
       "8           8       Allisha Gray  DAL    G     185      76  22.205990   \n",
       "9           9  Allison Hightower  WAS    G     178      77  24.302487   \n",
       "\n",
       "  Birth_Place          Birthdate  Age  ... OREB DREB  REB  AST  STL  BLK  TO  \\\n",
       "0          US   January 17, 1994   23  ...    6   22   28   12    3    6  12   \n",
       "1          US       May 14, 1982   35  ...   19   82  101   72   63   13  40   \n",
       "2          US   October 27, 1990   26  ...    4   36   40   78   22    3  24   \n",
       "3          US  December 11, 1988   28  ...   35  134  169   65   20   10  38   \n",
       "4          US     August 5, 1994   23  ...    3    9   12   12    7    0  14   \n",
       "5          US      June 20, 1995   22  ...    3   13   16   11    5    0  11   \n",
       "6          US   February 5, 1994   23  ...    1   14   15    5    4    3   3   \n",
       "7          US      June 20, 1986   31  ...    9   83   92   95   20   13  59   \n",
       "8          US   October 20, 1992   24  ...   52   75  127   40   47   19  37   \n",
       "9          US       June 4, 1988   29  ...    3    7   10   10    5    0   2   \n",
       "\n",
       "   PTS  DD2  TD3  \n",
       "0   93    0    0  \n",
       "1  217    0    0  \n",
       "2  218    0    0  \n",
       "3  188    2    0  \n",
       "4   50    0    0  \n",
       "5   26    0    0  \n",
       "6   24    0    0  \n",
       "7  442    0    0  \n",
       "8  395    0    0  \n",
       "9   36    0    0  \n",
       "\n",
       "[10 rows x 33 columns]"
      ]
     },
     "execution_count": 56,
     "metadata": {},
     "output_type": "execute_result"
    }
   ],
   "source": [
    "wnba = pd.read_csv('/Users/GiadaSartori/Documents/IRONHACK/Lab/Week5/M2-mini-project2/your-code/wnba_clean.csv')\n",
    "wnba.head(10)"
   ]
  },
  {
   "cell_type": "code",
   "execution_count": 57,
   "metadata": {},
   "outputs": [
    {
     "data": {
      "text/plain": [
       "Index(['Unnamed: 0', 'Name', 'Team', 'Pos', 'Height', 'Weight', 'BMI',\n",
       "       'Birth_Place', 'Birthdate', 'Age', 'College', 'Experience',\n",
       "       'Games Played', 'MIN', 'FGM', 'FGA', 'FG%', '3PM', '3PA', '3P%', 'FTM',\n",
       "       'FTA', 'FT%', 'OREB', 'DREB', 'REB', 'AST', 'STL', 'BLK', 'TO', 'PTS',\n",
       "       'DD2', 'TD3'],\n",
       "      dtype='object')"
      ]
     },
     "execution_count": 57,
     "metadata": {},
     "output_type": "execute_result"
    }
   ],
   "source": [
    "wnba.columns"
   ]
  },
  {
   "cell_type": "markdown",
   "metadata": {},
   "source": [
    "# Question 1: Can my sister play in a professional female basketball league?\n",
    "\n",
    "As we said, you grandmother is convinced that your sister couldn't play in a professional league because of her physique and weight (her weight is 67kg). \n",
    "\n",
    "To find an actual answer to the question we first need to know what's the average weight of a professional female basketball player. The data we have only refers to the WNBA league and not to every female professional basketball league in the world, therefore we have no way of actually calculating it.\n",
    "\n",
    "Still, given that we do have *some* data we can **infer** it using a sample of players like the one we have. \n",
    "\n",
    "**How would you do it? Try and think about the requirements that your sample must satisfy in order to be used to infer the average weight. Do you feel it actually fulfills those requirements? Do you need to make any assumptions? We could calculate a confidence interval to do the inference, but do you know any other ways?**"
   ]
  },
  {
   "cell_type": "markdown",
   "metadata": {},
   "source": [
    "I would calculate a t-test therefore the t-value by:\n",
    "- Computing the difference between the mean values from each data set (called the mean difference)\n",
    "- Computing the standard deviation of the sample\n",
    "- Computing the number of data values of the sample\n",
    "- Knowing the confidence level"
   ]
  },
  {
   "cell_type": "markdown",
   "metadata": {},
   "source": [
    "**Now that all the requirements have been taken into account, compute the confidence interval of the average weight with a confidence level of 95%.**"
   ]
  },
  {
   "cell_type": "code",
   "execution_count": 58,
   "metadata": {},
   "outputs": [
    {
     "name": "stdout",
     "output_type": "stream",
     "text": [
      "78.97887323943662\n",
      "10.996110408297898\n",
      "142\n",
      "(77.15461406720749, 80.80313241166576)\n"
     ]
    }
   ],
   "source": [
    "mean_w = wnba['Weight'].mean()\n",
    "\n",
    "std_w = wnba['Weight'].std(ddof =1) # std of the sample\n",
    "\n",
    "n_wnba = len(wnba)\n",
    "\n",
    "print(mean_w)\n",
    "print(std_w)\n",
    "print(n)\n",
    "\n",
    "c = 0.95 #confidence level of 95%\n",
    "\n",
    "interval_w = st.t.interval(c, n_wnba-1, loc=mean_w, scale=std_w/np.sqrt(n))\n",
    "print(interval_w)"
   ]
  },
  {
   "cell_type": "markdown",
   "metadata": {},
   "source": [
    "**What can you say about these results?**"
   ]
  },
  {
   "cell_type": "markdown",
   "metadata": {},
   "source": [
    "We can see that the average weight of a female basketball player is between 77kg and 80.8kg. "
   ]
  },
  {
   "cell_type": "markdown",
   "metadata": {},
   "source": [
    "**If your sister weighs 67kg what would you tell your grandmother in regards to her assumption?**"
   ]
  },
  {
   "cell_type": "markdown",
   "metadata": {},
   "source": [
    "I would say that my sister weighs 10kg below the minimum value of the weight range of the female basketball players of the wbna.  "
   ]
  },
  {
   "cell_type": "markdown",
   "metadata": {},
   "source": [
    "## Bonus: Can you plot the probability distribution of the average weight, indicating where the critical region is?"
   ]
  },
  {
   "cell_type": "code",
   "execution_count": 59,
   "metadata": {},
   "outputs": [
    {
     "data": {
      "image/png": "[encoded data removed]",
      "text/plain": [
       "<Figure size 432x288 with 1 Axes>"
      ]
     },
     "metadata": {
      "needs_background": "light"
     },
     "output_type": "display_data"
    }
   ],
   "source": [
    "plt.plot(interval_w)\n",
    "plt.show()"
   ]
  },
  {
   "cell_type": "code",
   "execution_count": null,
   "metadata": {},
   "outputs": [],
   "source": []
  },
  {
   "cell_type": "markdown",
   "metadata": {},
   "source": [
    "# Question 2: Do female professional basketball players fail the majority of their free throws?\n",
    "\n",
    "You do not agree with your sister when she says that most female players fail their free throws. You decide to try and estimate the percentage of players that fail more than 40% of their free throws using, you guessed it, the WNBA sample.\n",
    "\n",
    "**How would you do it? Try and think about the requirements that your sample must satisfy in order to be used to infer the proportion of players that miss more than 40% of their free throws. Do you feel it actually fulfills those requirements? Do you need to make any assumptions?**"
   ]
  },
  {
   "cell_type": "markdown",
   "metadata": {},
   "source": [
    "I would try hypothesis testing. And follow the 6 steps:\n",
    "\n",
    "1. SET THE HYPOTESIS \n",
    "2. CHOOSE SIGNIFICANCE LEVEL\n",
    "3. SAMPLE\n",
    "4. COMPUTE THE STATISTIC \n",
    "5. GET p-VALUE\n",
    "6. DECIDE"
   ]
  },
  {
   "cell_type": "markdown",
   "metadata": {},
   "source": [
    "**Now that all the requirements have been taken into account, compute the confidence interval of the proportion with a confidence level of 95%:**"
   ]
  },
  {
   "cell_type": "code",
   "execution_count": 60,
   "metadata": {},
   "outputs": [],
   "source": [
    "# 1. SET THE HYPOTESIS \n",
    "\n",
    "##NOTE: mu -> is the average of the population \n",
    "\n",
    "# H0: mu is Female professional basketball players miss >= 40% of their free throws\n",
    "# H1: mu is Female professional basketball players miss > 40% of their free throws\n",
    "\n",
    "\n",
    "## One tailed test"
   ]
  },
  {
   "cell_type": "code",
   "execution_count": 61,
   "metadata": {},
   "outputs": [],
   "source": [
    "# 2. CHOOSE THE SIGNIFICANCE LEVEL\n",
    "\n",
    "# significance level = 5%\n",
    "\n",
    "alpha = 0.05 #opposite of confidence level of 95%"
   ]
  },
  {
   "cell_type": "code",
   "execution_count": 62,
   "metadata": {},
   "outputs": [
    {
     "data": {
      "text/plain": [
       "(72.75371835469808, 78.90402812417513)"
      ]
     },
     "execution_count": 62,
     "metadata": {},
     "output_type": "execute_result"
    }
   ],
   "source": [
    "# 3. SAMPLE is wbna\n",
    "\n",
    "# 4. COMPUTE STATISTICS\n",
    "\n",
    "\n",
    "## The formula is: (X_hat - mu)/(s/np.sqrt(n))\n",
    "\n",
    "# Mean of our sample (x_hat)\n",
    "x_hat = wnba['FT%'].mean() \n",
    "\n",
    "# Standard deviation of our sample\n",
    "s = wnba['FT%'].std(ddof=1) # ddof =1 because we are computing the standard deviation of our sample\n",
    "\n",
    "# Mu and n\n",
    "mu = 78.97887323943662 #taken fromt the population\n",
    "n = n_wnba\n",
    "\n",
    "# Compute the interval\n",
    "\n",
    "st.t.interval(c, n-1, loc=x_hat, scale=s/np.sqrt(n))\n"
   ]
  },
  {
   "cell_type": "markdown",
   "metadata": {},
   "source": [
    "**What can you comment about our result? What would you tell your sister?**"
   ]
  },
  {
   "cell_type": "markdown",
   "metadata": {},
   "source": [
    "My sister is wrong, because with a confidence level of 95%, we can state that, between 72.75% and 78.9%, our female basketball players successyllu throw free throws in the basket."
   ]
  },
  {
   "cell_type": "markdown",
   "metadata": {},
   "source": [
    "# Bonus: Can you plot the probability distribution of the proportion of missed free throws, indicating where the critical region is?"
   ]
  },
  {
   "cell_type": "code",
   "execution_count": 63,
   "metadata": {},
   "outputs": [],
   "source": [
    "#your code here"
   ]
  },
  {
   "cell_type": "markdown",
   "metadata": {},
   "source": [
    "# Question 3: Is the average number of assists for WNBA players only higher than the average for WNBA and NBA players together?"
   ]
  },
  {
   "cell_type": "markdown",
   "metadata": {},
   "source": [
    "Your brother-in-law is convinced that the average assists for female professional players is higher than the average of both female and male players combined (which is 52 for the 2016-2017 season). You would like to actually prove if this is true or not but you remember your stats teacher saying \"you can't *prove* anything, you just can say that *you are not* saying foolishness\".\n",
    "\n",
    "**How would you do it? Try and think about the requirements that your sample must satisfy in order to do that. Do you feel it actually fulfills those requirements? Do you need to make any assumptions?**"
   ]
  },
  {
   "cell_type": "code",
   "execution_count": 64,
   "metadata": {},
   "outputs": [],
   "source": [
    "#your-answer-here"
   ]
  },
  {
   "cell_type": "markdown",
   "metadata": {},
   "source": [
    "**Use a two-tailed one-sample t-test to see if we can reject (or not) the null hypothesis with a 95% confidence level.**"
   ]
  },
  {
   "cell_type": "code",
   "execution_count": 65,
   "metadata": {},
   "outputs": [
    {
     "name": "stdout",
     "output_type": "stream",
     "text": [
      "-2.1499947192482898\n",
      "0.033261541354107166\n",
      "True\n"
     ]
    }
   ],
   "source": [
    "# H0: mean_female = mean_combined\n",
    "\n",
    "# H0: mean_female != mean_combined\n",
    "\n",
    "alpha = 0.05\n",
    "\n",
    "stats, p_value = st.ttest_1samp(wnba[\"AST\"], 52)\n",
    "\n",
    "print(stats)\n",
    "print(p_value)\n",
    "\n",
    "print(p_value < alpha)"
   ]
  },
  {
   "cell_type": "markdown",
   "metadata": {},
   "source": [
    "#### Comments:\n",
    "Since p_value is smaller than our interval vote of 5%, we are likely to believe that the average of female played is not equal to the average of both female and male players combined"
   ]
  },
  {
   "cell_type": "markdown",
   "metadata": {},
   "source": [
    "**Now use a one-tailed one-sample t-test to see if we can reject (or not) the null hypothesis with a 95% confidence level.**"
   ]
  },
  {
   "cell_type": "code",
   "execution_count": 66,
   "metadata": {},
   "outputs": [
    {
     "name": "stdout",
     "output_type": "stream",
     "text": [
      "-2.1499947192482898\n",
      "0.016630770677053583\n",
      "True\n"
     ]
    }
   ],
   "source": [
    "# H0: mean_female >= mean_combined\n",
    "\n",
    "# H0: mean_female < mean_combined\n",
    "\n",
    "alpha = 0.05\n",
    "\n",
    "stats, p_value = st.ttest_1samp(wnba[\"AST\"], 52, alternative='less')\n",
    "\n",
    "print(stats)\n",
    "print(p_value)\n",
    "\n",
    "print(p_value < alpha)"
   ]
  },
  {
   "cell_type": "markdown",
   "metadata": {},
   "source": [
    "#### Comments: \n",
    "We do not reject H0"
   ]
  },
  {
   "cell_type": "markdown",
   "metadata": {},
   "source": [
    "# Bonus: Can you plot the resulting t-distribution of both tests? Indicate where the is the critical region and where does your statistic fall.**"
   ]
  },
  {
   "cell_type": "code",
   "execution_count": 67,
   "metadata": {},
   "outputs": [],
   "source": [
    "#your code here"
   ]
  },
  {
   "cell_type": "markdown",
   "metadata": {},
   "source": [
    "# Bonus: Satisfying your curiosity\n",
    "\n",
    "You finally managed to solve your family's debates over basketball! While you were doing that you started to take an interest in the normal distribution.\n",
    "\n",
    "You read that the normal distribution is present in a lot of natural phenomenons, like blood pressure, IQ, weight and height. If, for example, we could plot the distribution of the weights of every human on the planet right now it would have the shape of a normal distribution.\n",
    "\n",
    "In light of this you would like to see if it's possible to check if the distribution of the weights of the WNBA players is a sample distribution that comes from a population that has a normal distribution, because theoretically this should be the case.\n",
    "\n",
    "**How would you try to demonstrate that our sample fits a normal distribution? What kind of test would you use? Would you have to make any assumptions?**"
   ]
  },
  {
   "cell_type": "code",
   "execution_count": 68,
   "metadata": {},
   "outputs": [],
   "source": [
    "#your-answer-here"
   ]
  },
  {
   "cell_type": "code",
   "execution_count": 69,
   "metadata": {},
   "outputs": [],
   "source": [
    "# your code here"
   ]
  },
  {
   "cell_type": "markdown",
   "metadata": {},
   "source": [
    "**What are your comments in regards to the results of the test?**"
   ]
  },
  {
   "cell_type": "code",
   "execution_count": 24,
   "metadata": {},
   "outputs": [],
   "source": [
    "#your-answer-here"
   ]
  }
 ],
 "metadata": {
  "kernelspec": {
   "display_name": "Python 3 (ipykernel)",
   "language": "python",
   "name": "python3"
  },
  "language_info": {
   "codemirror_mode": {
    "name": "ipython",
    "version": 3
   },
   "file_extension": ".py",
   "mimetype": "text/x-python",
   "name": "python",
   "nbconvert_exporter": "python",
   "pygments_lexer": "ipython3",
   "version": "3.9.12"
  }
 },
 "nbformat": 4,
 "nbformat_minor": 2
}
